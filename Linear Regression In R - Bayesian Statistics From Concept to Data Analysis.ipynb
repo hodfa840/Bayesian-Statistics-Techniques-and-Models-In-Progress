{
 "cells": [
  {
   "cell_type": "markdown",
   "id": "52094b81",
   "metadata": {},
   "source": [
    "# <font color='blue'> Linear Regression in R </font>\n"
   ]
  },
  {
   "cell_type": "code",
   "execution_count": 13,
   "id": "eaf47f88",
   "metadata": {},
   "outputs": [
    {
     "name": "stderr",
     "output_type": "stream",
     "text": [
      "The following objects are masked from data1 (pos = 3):\n",
      "\n",
      "    I, T\n",
      "\n",
      "\n",
      "The following objects are masked from data1 (pos = 4):\n",
      "\n",
      "    I, T\n",
      "\n",
      "\n",
      "The following object is masked from package:base:\n",
      "\n",
      "    T\n",
      "\n",
      "\n"
     ]
    }
   ],
   "source": [
    "data1 = read.table('http://www.randomservices.org/random/data/Challenger2.txt',header = TRUE)\n",
    "attach(data1) # to be able to use the labels"
   ]
  },
  {
   "cell_type": "code",
   "execution_count": 11,
   "id": "fc65d98b",
   "metadata": {},
   "outputs": [
    {
     "data": {
      "text/html": [
       "<table class=\"dataframe\">\n",
       "<caption>A data.frame: 6 × 2</caption>\n",
       "<thead>\n",
       "\t<tr><th></th><th scope=col>T</th><th scope=col>I</th></tr>\n",
       "\t<tr><th></th><th scope=col>&lt;int&gt;</th><th scope=col>&lt;int&gt;</th></tr>\n",
       "</thead>\n",
       "<tbody>\n",
       "\t<tr><th scope=row>1</th><td>53</td><td>11</td></tr>\n",
       "\t<tr><th scope=row>2</th><td>57</td><td> 4</td></tr>\n",
       "\t<tr><th scope=row>3</th><td>58</td><td> 4</td></tr>\n",
       "\t<tr><th scope=row>4</th><td>63</td><td> 2</td></tr>\n",
       "\t<tr><th scope=row>5</th><td>66</td><td> 0</td></tr>\n",
       "\t<tr><th scope=row>6</th><td>67</td><td> 0</td></tr>\n",
       "</tbody>\n",
       "</table>\n"
      ],
      "text/latex": [
       "A data.frame: 6 × 2\n",
       "\\begin{tabular}{r|ll}\n",
       "  & T & I\\\\\n",
       "  & <int> & <int>\\\\\n",
       "\\hline\n",
       "\t1 & 53 & 11\\\\\n",
       "\t2 & 57 &  4\\\\\n",
       "\t3 & 58 &  4\\\\\n",
       "\t4 & 63 &  2\\\\\n",
       "\t5 & 66 &  0\\\\\n",
       "\t6 & 67 &  0\\\\\n",
       "\\end{tabular}\n"
      ],
      "text/markdown": [
       "\n",
       "A data.frame: 6 × 2\n",
       "\n",
       "| <!--/--> | T &lt;int&gt; | I &lt;int&gt; |\n",
       "|---|---|---|\n",
       "| 1 | 53 | 11 |\n",
       "| 2 | 57 |  4 |\n",
       "| 3 | 58 |  4 |\n",
       "| 4 | 63 |  2 |\n",
       "| 5 | 66 |  0 |\n",
       "| 6 | 67 |  0 |\n",
       "\n"
      ],
      "text/plain": [
       "  T  I \n",
       "1 53 11\n",
       "2 57  4\n",
       "3 58  4\n",
       "4 63  2\n",
       "5 66  0\n",
       "6 67  0"
      ]
     },
     "metadata": {},
     "output_type": "display_data"
    }
   ],
   "source": [
    "head(data1)"
   ]
  },
  {
   "cell_type": "code",
   "execution_count": 21,
   "id": "3722fe88",
   "metadata": {},
   "outputs": [
    {
     "data": {
      "image/png": "[encoded data removed]",
      "text/plain": [
       "plot without title"
      ]
     },
     "metadata": {
      "image/png": {
       "height": 420,
       "width": 420
      }
     },
     "output_type": "display_data"
    }
   ],
   "source": [
    "plot(T,I,col='darkblue',pch=8)"
   ]
  },
  {
   "cell_type": "code",
   "execution_count": 22,
   "id": "d0f4a390",
   "metadata": {},
   "outputs": [],
   "source": [
    "data1.lm = lm(I~T)"
   ]
  },
  {
   "cell_type": "code",
   "execution_count": 23,
   "id": "130ddf98",
   "metadata": {},
   "outputs": [
    {
     "data": {
      "text/plain": [
       "\n",
       "Call:\n",
       "lm(formula = I ~ T)\n",
       "\n",
       "Residuals:\n",
       "    Min      1Q  Median      3Q     Max \n",
       "-2.3025 -1.4507 -0.4928  0.7397  5.5337 \n",
       "\n",
       "Coefficients:\n",
       "            Estimate Std. Error t value Pr(>|t|)    \n",
       "(Intercept) 18.36508    4.43859   4.138 0.000468 ***\n",
       "T           -0.24337    0.06349  -3.833 0.000968 ***\n",
       "---\n",
       "Signif. codes:  0 '***' 0.001 '**' 0.01 '*' 0.05 '.' 0.1 ' ' 1\n",
       "\n",
       "Residual standard error: 2.102 on 21 degrees of freedom\n",
       "Multiple R-squared:  0.4116,\tAdjusted R-squared:  0.3836 \n",
       "F-statistic: 14.69 on 1 and 21 DF,  p-value: 0.0009677\n"
      ]
     },
     "metadata": {},
     "output_type": "display_data"
    }
   ],
   "source": [
    "summary(data1.lm)"
   ]
  },
  {
   "cell_type": "code",
   "execution_count": 32,
   "id": "d6b6c640",
   "metadata": {},
   "outputs": [
    {
     "data": {
      "image/png": "[encoded data removed]",
      "text/plain": [
       "plot without title"
      ]
     },
     "metadata": {
      "image/png": {
       "height": 420,
       "width": 420
      }
     },
     "output_type": "display_data"
    }
   ],
   "source": [
    "plot(T,I,col='darkblue',pch=8)\n",
    "lines(T,fitted(data1.lm),col='brown',lwd=2)"
   ]
  },
  {
   "cell_type": "code",
   "execution_count": 33,
   "id": "e6e0eec7",
   "metadata": {},
   "outputs": [
    {
     "data": {
      "text/html": [
       "-0.37540468300176"
      ],
      "text/latex": [
       "-0.37540468300176"
      ],
      "text/markdown": [
       "-0.37540468300176"
      ],
      "text/plain": [
       "[1] -0.3754047"
      ]
     },
     "metadata": {},
     "output_type": "display_data"
    },
    {
     "data": {
      "text/html": [
       "-0.11133531699824"
      ],
      "text/latex": [
       "-0.11133531699824"
      ],
      "text/markdown": [
       "-0.11133531699824"
      ],
      "text/plain": [
       "[1] -0.1113353"
      ]
     },
     "metadata": {},
     "output_type": "display_data"
    }
   ],
   "source": [
    "# 95% posterior interval for the slope\n",
    "-0.24337 - 0.06349*qt(.975,21)\n",
    "-0.24337 + 0.06349*qt(.975,21)\n",
    "# note that these are the same as the frequentist confidence intervals"
   ]
  },
  {
   "cell_type": "code",
   "execution_count": 34,
   "id": "2dbfa5eb",
   "metadata": {},
   "outputs": [
    {
     "data": {
      "text/html": [
       "10.82061"
      ],
      "text/latex": [
       "10.82061"
      ],
      "text/markdown": [
       "10.82061"
      ],
      "text/plain": [
       "[1] 10.82061"
      ]
     },
     "metadata": {},
     "output_type": "display_data"
    }
   ],
   "source": [
    "# the Challenger launch was at 31 degrees Fahrenheit\n",
    "# how much o-ring damage would we predict?\n",
    "# y-hat\n",
    "\n",
    "18.36508-0.24337*31"
   ]
  },
  {
   "cell_type": "code",
   "execution_count": 36,
   "id": "0397e8e3",
   "metadata": {},
   "outputs": [
    {
     "data": {
      "text/html": [
       "<style>\n",
       ".dl-inline {width: auto; margin:0; padding: 0}\n",
       ".dl-inline>dt, .dl-inline>dd {float: none; width: auto; display: inline-block}\n",
       ".dl-inline>dt::after {content: \":\\0020\"; padding-right: .5ex}\n",
       ".dl-inline>dt:not(:first-of-type) {padding-left: .5ex}\n",
       "</style><dl class=dl-inline><dt>(Intercept)</dt><dd>18.3650793650794</dd><dt>T</dt><dd>-0.243373015873016</dd></dl>\n"
      ],
      "text/latex": [
       "\\begin{description*}\n",
       "\\item[(Intercept)] 18.3650793650794\n",
       "\\item[T] -0.243373015873016\n",
       "\\end{description*}\n"
      ],
      "text/markdown": [
       "(Intercept)\n",
       ":   18.3650793650794T\n",
       ":   -0.243373015873016\n",
       "\n"
      ],
      "text/plain": [
       "(Intercept)           T \n",
       "  18.365079   -0.243373 "
      ]
     },
     "metadata": {},
     "output_type": "display_data"
    },
    {
     "data": {
      "text/html": [
       "<strong>(Intercept):</strong> 10.8205158730159"
      ],
      "text/latex": [
       "\\textbf{(Intercept):} 10.8205158730159"
      ],
      "text/markdown": [
       "**(Intercept):** 10.8205158730159"
      ],
      "text/plain": [
       "(Intercept) \n",
       "   10.82052 "
      ]
     },
     "metadata": {},
     "output_type": "display_data"
    }
   ],
   "source": [
    "coef(data1.lm)\n",
    "coef(data1.lm)[1] + coef(data1.lm)[2]*31  \n"
   ]
  },
  {
   "cell_type": "code",
   "execution_count": 2,
   "id": "4b793cc3",
   "metadata": {},
   "outputs": [
    {
     "ename": "ERROR",
     "evalue": "Error in predict(oring.lm, data.frame(T = 31), interval = \"predict\"): object 'oring.lm' not found\n",
     "output_type": "error",
     "traceback": [
      "Error in predict(oring.lm, data.frame(T = 31), interval = \"predict\"): object 'oring.lm' not found\nTraceback:\n",
      "1. predict(oring.lm, data.frame(T = 31), interval = \"predict\")"
     ]
    }
   ],
   "source": [
    "# posterior prediction interval (same as frequentist)\n",
    "predict(oring.lm,data.frame(T=31),interval=\"predict\")  \n",
    "10.82052-2.102*qt(.975,21)*sqrt(1+1/23+((31-mean(T))^2/22/var(T)))\n",
    "\n",
    "# posterior probability that damage index is greater than zero\n",
    "1-pt((0-10.82052)/(2.102*sqrt(1+1/23+((31-mean(T))^2/22/var(T)))),21)\n",
    "\n",
    "\n"
   ]
  },
  {
   "cell_type": "code",
   "execution_count": 4,
   "id": "30f14eb8",
   "metadata": {},
   "outputs": [
    {
     "name": "stderr",
     "output_type": "stream",
     "text": [
      "The following objects are masked from heights (pos = 3):\n",
      "\n",
      "    Family, Father, Gender, Height, Kids, Mother\n",
      "\n",
      "\n"
     ]
    },
    {
     "data": {
      "text/html": [
       "<style>\n",
       ".list-inline {list-style: none; margin:0; padding: 0}\n",
       ".list-inline>li {display: inline-block}\n",
       ".list-inline>li:not(:last-child)::after {content: \"\\00b7\"; padding: 0 .5ex}\n",
       "</style>\n",
       "<ol class=list-inline><li>'Family'</li><li>'Father'</li><li>'Mother'</li><li>'Gender'</li><li>'Height'</li><li>'Kids'</li></ol>\n"
      ],
      "text/latex": [
       "\\begin{enumerate*}\n",
       "\\item 'Family'\n",
       "\\item 'Father'\n",
       "\\item 'Mother'\n",
       "\\item 'Gender'\n",
       "\\item 'Height'\n",
       "\\item 'Kids'\n",
       "\\end{enumerate*}\n"
      ],
      "text/markdown": [
       "1. 'Family'\n",
       "2. 'Father'\n",
       "3. 'Mother'\n",
       "4. 'Gender'\n",
       "5. 'Height'\n",
       "6. 'Kids'\n",
       "\n",
       "\n"
      ],
      "text/plain": [
       "[1] \"Family\" \"Father\" \"Mother\" \"Gender\" \"Height\" \"Kids\"  "
      ]
     },
     "metadata": {},
     "output_type": "display_data"
    }
   ],
   "source": [
    "#http://www.randomservices.org/random/data/Galton.txt\n",
    "# Galton's seminal data on predicting the height of children from the \n",
    "# heights of the parents, all in inches\n",
    "\n",
    "heights=read.table('http://www.randomservices.org/random/data/Galton.txt',header=T)\n",
    "attach(heights)\n",
    "names(heights)\n"
   ]
  },
  {
   "cell_type": "code",
   "execution_count": 10,
   "id": "28f511e2",
   "metadata": {},
   "outputs": [
    {
     "data": {
      "image/png": "[encoded data removed]",
      "text/plain": [
       "plot without title"
      ]
     },
     "metadata": {
      "image/png": {
       "height": 420,
       "width": 420
      }
     },
     "output_type": "display_data"
    }
   ],
   "source": [
    "pairs(heights,col='blue')\n"
   ]
  },
  {
   "cell_type": "code",
   "execution_count": 6,
   "id": "c2e82a8c",
   "metadata": {},
   "outputs": [
    {
     "data": {
      "text/plain": [
       "\n",
       "Call:\n",
       "lm(formula = Height ~ Father + Mother + Gender + Kids)\n",
       "\n",
       "Residuals:\n",
       "    Min      1Q  Median      3Q     Max \n",
       "-9.4748 -1.4500  0.0889  1.4716  9.1656 \n",
       "\n",
       "Coefficients:\n",
       "            Estimate Std. Error t value Pr(>|t|)    \n",
       "(Intercept) 16.18771    2.79387   5.794 9.52e-09 ***\n",
       "Father       0.39831    0.02957  13.472  < 2e-16 ***\n",
       "Mother       0.32096    0.03126  10.269  < 2e-16 ***\n",
       "GenderM      5.20995    0.14422  36.125  < 2e-16 ***\n",
       "Kids        -0.04382    0.02718  -1.612    0.107    \n",
       "---\n",
       "Signif. codes:  0 '***' 0.001 '**' 0.01 '*' 0.05 '.' 0.1 ' ' 1\n",
       "\n",
       "Residual standard error: 2.152 on 893 degrees of freedom\n",
       "Multiple R-squared:  0.6407,\tAdjusted R-squared:  0.6391 \n",
       "F-statistic: 398.1 on 4 and 893 DF,  p-value: < 2.2e-16\n"
      ]
     },
     "metadata": {},
     "output_type": "display_data"
    },
    {
     "data": {
      "text/plain": [
       "\n",
       "Call:\n",
       "lm(formula = Height ~ Father + Mother + Gender)\n",
       "\n",
       "Residuals:\n",
       "   Min     1Q Median     3Q    Max \n",
       "-9.523 -1.440  0.117  1.473  9.114 \n",
       "\n",
       "Coefficients:\n",
       "            Estimate Std. Error t value Pr(>|t|)    \n",
       "(Intercept) 15.34476    2.74696   5.586 3.08e-08 ***\n",
       "Father       0.40598    0.02921  13.900  < 2e-16 ***\n",
       "Mother       0.32150    0.03128  10.277  < 2e-16 ***\n",
       "GenderM      5.22595    0.14401  36.289  < 2e-16 ***\n",
       "---\n",
       "Signif. codes:  0 '***' 0.001 '**' 0.01 '*' 0.05 '.' 0.1 ' ' 1\n",
       "\n",
       "Residual standard error: 2.154 on 894 degrees of freedom\n",
       "Multiple R-squared:  0.6397,\tAdjusted R-squared:  0.6385 \n",
       "F-statistic:   529 on 3 and 894 DF,  p-value: < 2.2e-16\n"
      ]
     },
     "metadata": {},
     "output_type": "display_data"
    }
   ],
   "source": [
    "\n",
    "summary(lm(Height~Father+Mother+Gender+Kids))\n",
    "summary(lm(Height~Father+Mother+Gender))\n",
    "heights.lm=lm(Height~Father+Mother+Gender)\n"
   ]
  },
  {
   "cell_type": "code",
   "execution_count": 12,
   "id": "91b74ab0",
   "metadata": {},
   "outputs": [
    {
     "data": {
      "text/html": [
       "4.94338256637318"
      ],
      "text/latex": [
       "4.94338256637318"
      ],
      "text/markdown": [
       "4.94338256637318"
      ],
      "text/plain": [
       "[1] 4.943383"
      ]
     },
     "metadata": {},
     "output_type": "display_data"
    },
    {
     "data": {
      "text/html": [
       "5.50861743362682"
      ],
      "text/latex": [
       "5.50861743362682"
      ],
      "text/markdown": [
       "5.50861743362682"
      ],
      "text/plain": [
       "[1] 5.508617"
      ]
     },
     "metadata": {},
     "output_type": "display_data"
    },
    {
     "data": {
      "text/html": [
       "<table class=\"dataframe\">\n",
       "<caption>A matrix: 1 × 3 of type dbl</caption>\n",
       "<thead>\n",
       "\t<tr><th></th><th scope=col>fit</th><th scope=col>lwr</th><th scope=col>upr</th></tr>\n",
       "</thead>\n",
       "<tbody>\n",
       "\t<tr><th scope=row>1</th><td>68.75291</td><td>64.51971</td><td>72.9861</td></tr>\n",
       "</tbody>\n",
       "</table>\n"
      ],
      "text/latex": [
       "A matrix: 1 × 3 of type dbl\n",
       "\\begin{tabular}{r|lll}\n",
       "  & fit & lwr & upr\\\\\n",
       "\\hline\n",
       "\t1 & 68.75291 & 64.51971 & 72.9861\\\\\n",
       "\\end{tabular}\n"
      ],
      "text/markdown": [
       "\n",
       "A matrix: 1 × 3 of type dbl\n",
       "\n",
       "| <!--/--> | fit | lwr | upr |\n",
       "|---|---|---|---|\n",
       "| 1 | 68.75291 | 64.51971 | 72.9861 |\n",
       "\n"
      ],
      "text/plain": [
       "  fit      lwr      upr    \n",
       "1 68.75291 64.51971 72.9861"
      ]
     },
     "metadata": {},
     "output_type": "display_data"
    },
    {
     "data": {
      "text/html": [
       "<table class=\"dataframe\">\n",
       "<caption>A matrix: 1 × 3 of type dbl</caption>\n",
       "<thead>\n",
       "\t<tr><th></th><th scope=col>fit</th><th scope=col>lwr</th><th scope=col>upr</th></tr>\n",
       "</thead>\n",
       "<tbody>\n",
       "\t<tr><th scope=row>1</th><td>63.52695</td><td>59.29329</td><td>67.76062</td></tr>\n",
       "</tbody>\n",
       "</table>\n"
      ],
      "text/latex": [
       "A matrix: 1 × 3 of type dbl\n",
       "\\begin{tabular}{r|lll}\n",
       "  & fit & lwr & upr\\\\\n",
       "\\hline\n",
       "\t1 & 63.52695 & 59.29329 & 67.76062\\\\\n",
       "\\end{tabular}\n"
      ],
      "text/markdown": [
       "\n",
       "A matrix: 1 × 3 of type dbl\n",
       "\n",
       "| <!--/--> | fit | lwr | upr |\n",
       "|---|---|---|---|\n",
       "| 1 | 63.52695 | 59.29329 | 67.76062 |\n",
       "\n"
      ],
      "text/plain": [
       "  fit      lwr      upr     \n",
       "1 63.52695 59.29329 67.76062"
      ]
     },
     "metadata": {},
     "output_type": "display_data"
    }
   ],
   "source": [
    "# each extra inch taller a father is is correlated with 0.4 inch extra\n",
    " # height in the child\n",
    "# each extra inch taller a mother is is correlated with 0.3 inch extra\n",
    "  #height in the child\n",
    "# a male child is on average 5.2 inches taller than a female child\n",
    "# 95% posterior interval for the the difference in height by gender\n",
    "5.226 - 0.144*qt(.975,894)\n",
    "5.226 + 0.144*qt(.975,894)\n",
    "\n",
    "# posterior prediction interval (same as frequentist)\n",
    "predict(heights.lm,data.frame(Father=68,Mother=64,Gender=\"M\"),interval=\"predict\")\n",
    "predict(heights.lm,data.frame(Father=68,Mother=64,Gender=\"F\"),interval=\"predict\")\n"
   ]
  },
  {
   "cell_type": "code",
   "execution_count": null,
   "id": "97098980",
   "metadata": {},
   "outputs": [],
   "source": []
  }
 ],
 "metadata": {
  "kernelspec": {
   "display_name": "R",
   "language": "R",
   "name": "ir"
  },
  "language_info": {
   "codemirror_mode": "r",
   "file_extension": ".r",
   "mimetype": "text/x-r-source",
   "name": "R",
   "pygments_lexer": "r",
   "version": "3.6.1"
  },
  "latex_envs": {
   "LaTeX_envs_menu_present": true,
   "autoclose": true,
   "autocomplete": true,
   "bibliofile": "biblio.bib",
   "cite_by": "apalike",
   "current_citInitial": 1,
   "eqLabelWithNumbers": false,
   "eqNumInitial": 1,
   "hotkeys": {
    "equation": "Ctrl-E",
    "itemize": "Ctrl-I"
   },
   "labels_anchors": true,
   "latex_user_defs": false,
   "report_style_numbering": false,
   "user_envs_cfg": false
  },
  "toc": {
   "base_numbering": 1,
   "nav_menu": {
    "height": "238px",
    "width": "209px"
   },
   "number_sections": true,
   "sideBar": true,
   "skip_h1_title": true,
   "title_cell": "Table of Contents",
   "title_sidebar": "Contents",
   "toc_cell": false,
   "toc_position": {},
   "toc_section_display": true,
   "toc_window_display": false
  },
  "varInspector": {
   "cols": {
    "lenName": 16,
    "lenType": 16,
    "lenVar": 40
   },
   "kernels_config": {
    "python": {
     "delete_cmd_postfix": "",
     "delete_cmd_prefix": "del ",
     "library": "var_list.py",
     "varRefreshCmd": "print(var_dic_list())"
    },
    "r": {
     "delete_cmd_postfix": ") ",
     "delete_cmd_prefix": "rm(",
     "library": "var_list.r",
     "varRefreshCmd": "cat(var_dic_list()) "
    }
   },
   "oldHeight": 260.8,
   "position": {
    "height": "40px",
    "left": "1243px",
    "right": "20px",
    "top": "120px",
    "width": "273px"
   },
   "types_to_exclude": [
    "module",
    "function",
    "builtin_function_or_method",
    "instance",
    "_Feature"
   ],
   "varInspector_section_display": "none",
   "window_display": false
  }
 },
 "nbformat": 4,
 "nbformat_minor": 5
}
