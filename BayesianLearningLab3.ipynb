{
 "cells": [
  {
   "cell_type": "markdown",
   "id": "5abe90f3",
   "metadata": {},
   "source": [
    "## Gibbs sampler for a normal model\n",
    "\n",
    "\n",
    "\n",
    "The data \n",
    "$rainfall.dat$ consist of daily records, from the beginning of 1948 to the end of 1983,\n",
    " of precipitation (rain or snow in units of  $\\frac{1}{100}$ inch, and records of zero precipitation are excluded) at Snoqualmie Falls, Washington. Normal model. Assume the daily precipitation \n",
    " $\\left\\{ y_{1},...,y_{n}\\right\\} $ are independent normally distributed, $y_{1},...,y_{n}|\\mu,\\sigma^{2}\\sim\\mathcal{N}(\\mu,\\sigma^{2})$ where both $\\mu$ and $\\sigma^{2}$ are unknown. Let  $\\mu\\sim\\mathcal{N}(\\mu_{0},\\tau_{0}^{2})$\n",
    " independently of  $\\sigma^{2}\\sim Inv\\text{-}\\chi^{2}(\\nu_{0},\\sigma_{0}^{2})$\n",
    "\n",
    "\n",
    "- (a) Implement (code!) a Gibbs sampler that simulates from the joint posterior $p(\\mu,\\sigma^{2}|y_{1},...,y_{n})$ The full conditional posteriors are given on the slides from Lecture 7.Evaluate the convergence of the Gibbs sampler by by calculating the Inefficiency Factors (IFs) and plotting the trajectories of the sampled Markov chains.\n",
    "\n",
    "\n",
    "\n",
    "- (b)Plot the following densities in one figure: 1) a histogram or kernel density estimate of the daily precipitation $\\left\\{ y_{1},...,y_{n}\\right\\} $ The resulting posterior predictive density $p(\\tilde y|{y_1}, \\ldots ,{y_n})$ using the simulated posterior draws from (a). How well does the posterior predictive density agree with this data?"
   ]
  },
  {
   "cell_type": "code",
   "execution_count": 1,
   "id": "87e66472",
   "metadata": {},
   "outputs": [],
   "source": [
    "rainfall = read.table('rainfall.dat')\n",
    "attach(rainfall)"
   ]
  },
  {
   "cell_type": "code",
   "execution_count": 2,
   "id": "f413c0b5",
   "metadata": {},
   "outputs": [],
   "source": [
    "rain=rainfall$V1"
   ]
  },
  {
   "cell_type": "markdown",
   "id": "a23c6a55",
   "metadata": {},
   "source": [
    "### full condition on $\\mu$\n",
    "\n",
    " \\[\\mu \\propto {\\text{N}}\\left( {\\mu \\mid \\frac{{n\\bar y/{\\sigma ^2} + {\\mu _0}/\\sigma _0^2}}{{n/{\\sigma ^2} + 1/\\sigma _0^2}},{\\mkern 1mu} \\frac{1}{{n/{\\sigma ^2} + 1/\\sigma _0^2}}} \\right)\\]"
   ]
  },
  {
   "cell_type": "code",
   "execution_count": 3,
   "id": "5bfe02bc",
   "metadata": {},
   "outputs": [],
   "source": [
    "update_mu = function(n, ybar, sig2, mu_0, sig2_0) {\n",
    "  sig2_1 = 1.0 / (n / sig2 + 1.0 / sig2_0)\n",
    "  mu_1 = sig2_1 * (n * ybar / sig2 + mu_0 / sig2_0)\n",
    "  rnorm(n=1, mean=mu_1, sd=sqrt(sig2_1))\n",
    "}"
   ]
  },
  {
   "cell_type": "markdown",
   "id": "5edaa4af",
   "metadata": {},
   "source": [
    "### The full conditional for $\\sigma^2$ given $\\mu$ and data is\n",
    "\n",
    "\\[\\sigma^2 \\propto {\\text{IG}}\\left( {{\\sigma ^2}\\mid {\\nu _0} + \\frac{n}{2},{\\mkern 1mu} {\\beta _0} + \\frac{{\\sum\\limits_{i = 1}^n {{{({y_i} - \\mu )}^2}} }}{2}} \\right)\\]"
   ]
  },
  {
   "cell_type": "code",
   "execution_count": 4,
   "id": "5c1dfe22",
   "metadata": {},
   "outputs": [],
   "source": [
    "update_sig2 = function(n, y, mu, nu_0, beta_0) {\n",
    "  nu_1 = nu_0 + n / 2.0\n",
    "  sumsq = sum( (y - mu)^2 ) # vectorized\n",
    "  beta_1 = beta_0 + sumsq / 2.0\n",
    "  out_gamma = rgamma(n=1, shape=nu_1, rate=beta_1) # rate for gamma is shape for inv-gamma\n",
    "  1.0 / out_gamma # reciprocal of a gamma random variable is distributed inv-gamma\n",
    "}"
   ]
  },
  {
   "cell_type": "markdown",
   "id": "d0fd7cf8",
   "metadata": {},
   "source": [
    "With functions for drawing from the full conditionals, we are ready to write a function to perform Gibbs sampling."
   ]
  },
  {
   "cell_type": "code",
   "execution_count": 92,
   "id": "171c4c81",
   "metadata": {},
   "outputs": [],
   "source": [
    "gibbs = function(y, n_iter, init, prior) {\n",
    "  ybar = mean(y)\n",
    "  n = length(y)\n",
    "  \n",
    "  ## initialize\n",
    "  mu_out = numeric(n_iter)\n",
    "  sig2_out = numeric(n_iter)\n",
    "  \n",
    "  mu_now = init$mu\n",
    "  \n",
    "  ## Gibbs sampler\n",
    "  for (i in 1:n_iter) {\n",
    "    sig2_now = update_sig2(n=n, y=y, mu=mu_now, nu_0=prior$nu_0, beta_0=prior$beta_0)\n",
    "    mu_now = update_mu(n=n, ybar=ybar, sig2=sig2_now, mu_0=prior$mu_0, sig2_0=prior$sig2_0)\n",
    "    \n",
    "    sig2_out[i] = sig2_now\n",
    "    mu_out[i] = mu_now\n",
    "  }\n",
    "  \n",
    "  cbind(mu=mu_out, sig2=sig2_out)\n",
    "}"
   ]
  },
  {
   "cell_type": "code",
   "execution_count": 93,
   "id": "b6842038",
   "metadata": {},
   "outputs": [
    {
     "data": {
      "image/png": "[encoded data removed]",
      "text/plain": [
       "Plot with title \"Histogram of y\""
      ]
     },
     "metadata": {
      "image/png": {
       "height": 420,
       "width": 420
      }
     },
     "output_type": "display_data"
    }
   ],
   "source": [
    "y= log(rain)\n",
    "\n",
    "ybar = mean(y)\n",
    "n = length(y)\n",
    "\n",
    "## prior\n",
    "prior = list()\n",
    "prior$mu_0 = 0.0\n",
    "prior$sig2_0 = 1.0\n",
    "prior$n_0 = 2.0 # prior effective sample size for sig2\n",
    "prior$s2_0 = 1.0 # prior point estimate for sig2\n",
    "prior$nu_0 = prior$n_0 / 2.0 # prior parameter for inverse-gamma\n",
    "prior$beta_0 = prior$n_0 * prior$s2_0 / 2.0 # prior parameter for inverse-gamma\n",
    "\n",
    "hist(y, freq=FALSE, xlim=c(-1.0, 6.0),breaks=50) # histogram of the data\n",
    "curve(dnorm(x=x, mean=prior$mu_0, sd=sqrt(prior$sig2_0)), lty=2, add=TRUE) # prior for mu\n",
    "points(y, rep(0,n), pch=1) # individual data points\n",
    "points(ybar, 0, pch=19) # sample mean\n"
   ]
  },
  {
   "cell_type": "markdown",
   "id": "62676e46",
   "metadata": {},
   "source": [
    "Now we are ready to set up the problem in R.\n",
    "\n"
   ]
  },
  {
   "cell_type": "code",
   "execution_count": 94,
   "id": "c4be3724",
   "metadata": {},
   "outputs": [],
   "source": [
    "n=length(y)\n",
    "ybar = mean(y)\n",
    "## prior\n",
    "\n",
    "set.seed(123)\n",
    "\n",
    "init = list()\n",
    "init$mu = 0.0\n",
    "\n",
    "post = gibbs(y=y, n_iter=1e3, init=init, prior=prior)"
   ]
  },
  {
   "cell_type": "code",
   "execution_count": 95,
   "id": "799877aa",
   "metadata": {},
   "outputs": [
    {
     "data": {
      "image/png": "[encoded data removed]",
      "text/plain": [
       "Plot with title \"Density of sig2\""
      ]
     },
     "metadata": {
      "image/png": {
       "height": 420,
       "width": 420
      }
     },
     "output_type": "display_data"
    }
   ],
   "source": [
    "library(\"coda\")\n",
    "plot(as.mcmc(post))"
   ]
  },
  {
   "cell_type": "code",
   "execution_count": 96,
   "id": "d00e6121",
   "metadata": {},
   "outputs": [
    {
     "data": {
      "image/png": "[encoded data removed]",
      "text/plain": [
       "plot without title"
      ]
     },
     "metadata": {
      "image/png": {
       "height": 420,
       "width": 420
      }
     },
     "output_type": "display_data"
    }
   ],
   "source": [
    "sigma_keep = post[,2]\n",
    "sigma_keep = sigma_keep[-c(1:100)] #discard the first 100 iteration\n",
    "traceplot(as.mcmc(sigma_keep))"
   ]
  },
  {
   "cell_type": "code",
   "execution_count": 97,
   "id": "4010e51e",
   "metadata": {},
   "outputs": [
    {
     "name": "stdout",
     "output_type": "stream",
     "text": [
      "[1] \"autocorrelation for mu\"\n"
     ]
    },
    {
     "data": {
      "text/html": [
       "<table class=\"dataframe\">\n",
       "<caption>A matrix: 5 × 1 of type dbl</caption>\n",
       "<tbody>\n",
       "\t<tr><th scope=row>Lag 0</th><td> 1.000000000</td></tr>\n",
       "\t<tr><th scope=row>Lag 1</th><td> 0.054887605</td></tr>\n",
       "\t<tr><th scope=row>Lag 5</th><td>-0.010333817</td></tr>\n",
       "\t<tr><th scope=row>Lag 10</th><td> 0.008848957</td></tr>\n",
       "\t<tr><th scope=row>Lag 50</th><td>-0.006364898</td></tr>\n",
       "</tbody>\n",
       "</table>\n"
      ],
      "text/latex": [
       "A matrix: 5 × 1 of type dbl\n",
       "\\begin{tabular}{r|l}\n",
       "\tLag 0 &  1.000000000\\\\\n",
       "\tLag 1 &  0.054887605\\\\\n",
       "\tLag 5 & -0.010333817\\\\\n",
       "\tLag 10 &  0.008848957\\\\\n",
       "\tLag 50 & -0.006364898\\\\\n",
       "\\end{tabular}\n"
      ],
      "text/markdown": [
       "\n",
       "A matrix: 5 × 1 of type dbl\n",
       "\n",
       "| Lag 0 |  1.000000000 |\n",
       "| Lag 1 |  0.054887605 |\n",
       "| Lag 5 | -0.010333817 |\n",
       "| Lag 10 |  0.008848957 |\n",
       "| Lag 50 | -0.006364898 |\n",
       "\n"
      ],
      "text/plain": [
       "       [,1]        \n",
       "Lag 0   1.000000000\n",
       "Lag 1   0.054887605\n",
       "Lag 5  -0.010333817\n",
       "Lag 10  0.008848957\n",
       "Lag 50 -0.006364898"
      ]
     },
     "metadata": {},
     "output_type": "display_data"
    }
   ],
   "source": [
    "print('autocorrelation for mu')\n",
    "autocorr.diag(as.mcmc(post[,1]))\n"
   ]
  },
  {
   "cell_type": "code",
   "execution_count": 98,
   "id": "3a3f2c89",
   "metadata": {},
   "outputs": [
    {
     "name": "stdout",
     "output_type": "stream",
     "text": [
      "[1] \"autocorrelation for sigma\"\n"
     ]
    },
    {
     "data": {
      "text/html": [
       "<table class=\"dataframe\">\n",
       "<caption>A matrix: 5 × 1 of type dbl</caption>\n",
       "<tbody>\n",
       "\t<tr><th scope=row>Lag 0</th><td> 1.000000000</td></tr>\n",
       "\t<tr><th scope=row>Lag 1</th><td> 0.006647536</td></tr>\n",
       "\t<tr><th scope=row>Lag 5</th><td>-0.010041007</td></tr>\n",
       "\t<tr><th scope=row>Lag 10</th><td> 0.003821135</td></tr>\n",
       "\t<tr><th scope=row>Lag 50</th><td>-0.001157778</td></tr>\n",
       "</tbody>\n",
       "</table>\n"
      ],
      "text/latex": [
       "A matrix: 5 × 1 of type dbl\n",
       "\\begin{tabular}{r|l}\n",
       "\tLag 0 &  1.000000000\\\\\n",
       "\tLag 1 &  0.006647536\\\\\n",
       "\tLag 5 & -0.010041007\\\\\n",
       "\tLag 10 &  0.003821135\\\\\n",
       "\tLag 50 & -0.001157778\\\\\n",
       "\\end{tabular}\n"
      ],
      "text/markdown": [
       "\n",
       "A matrix: 5 × 1 of type dbl\n",
       "\n",
       "| Lag 0 |  1.000000000 |\n",
       "| Lag 1 |  0.006647536 |\n",
       "| Lag 5 | -0.010041007 |\n",
       "| Lag 10 |  0.003821135 |\n",
       "| Lag 50 | -0.001157778 |\n",
       "\n"
      ],
      "text/plain": [
       "       [,1]        \n",
       "Lag 0   1.000000000\n",
       "Lag 1   0.006647536\n",
       "Lag 5  -0.010041007\n",
       "Lag 10  0.003821135\n",
       "Lag 50 -0.001157778"
      ]
     },
     "metadata": {},
     "output_type": "display_data"
    }
   ],
   "source": [
    "print('autocorrelation for sigma')\n",
    "\n",
    "autocorr.diag(as.mcmc(post[,2]))"
   ]
  },
  {
   "cell_type": "code",
   "execution_count": 99,
   "id": "c7f72eac",
   "metadata": {
    "scrolled": true
   },
   "outputs": [
    {
     "data": {
      "image/png": "[encoded data removed]",
      "text/plain": [
       "Plot with title \"\""
      ]
     },
     "metadata": {
      "image/png": {
       "height": 420,
       "width": 420
      }
     },
     "output_type": "display_data"
    }
   ],
   "source": [
    "autocorr.plot(as.mcmc(post[,1]),main='mu',lwd=3,col='blue')"
   ]
  },
  {
   "cell_type": "markdown",
   "id": "42bfd4d8",
   "metadata": {},
   "source": [
    "autocorrelation tells us how much information is available in Markov chain. we can see that we obtain a larg amount information in each chain"
   ]
  },
  {
   "cell_type": "code",
   "execution_count": 100,
   "id": "a44a499f",
   "metadata": {},
   "outputs": [
    {
     "data": {
      "image/png": "[encoded data removed]",
      "text/plain": [
       "Plot with title \"\""
      ]
     },
     "metadata": {
      "image/png": {
       "height": 420,
       "width": 420
      }
     },
     "output_type": "display_data"
    }
   ],
   "source": [
    "autocorr.plot(as.mcmc(post[,2]),main='sigma',lwd=3,col='blue')"
   ]
  },
  {
   "cell_type": "markdown",
   "id": "3dd4444d",
   "metadata": {},
   "source": [
    "Autocorrelation is a major component in calculating the Monte Carlo effective sample size of your chain. The Monte Carlo effective sample size is how many independent samples from the stationary distribution you would have to draw to have equivalent information in your Markov chain. Essentially it is the m (sample size) we chose in the lesson on Monte Carlo estimation"
   ]
  },
  {
   "cell_type": "code",
   "execution_count": 65,
   "id": "f415ddbd",
   "metadata": {},
   "outputs": [
    {
     "name": "stdout",
     "output_type": "stream",
     "text": [
      " num [1:10000, 1:2] 2.77 2.73 2.73 2.7 2.73 ...\n",
      " - attr(*, \"dimnames\")=List of 2\n",
      "  ..$ : NULL\n",
      "  ..$ : chr [1:2] \"mu\" \"sig2\"\n"
     ]
    }
   ],
   "source": [
    "str(post)"
   ]
  },
  {
   "cell_type": "code",
   "execution_count": 66,
   "id": "40029ad2",
   "metadata": {},
   "outputs": [],
   "source": [
    "post2 = data.frame(post)"
   ]
  },
  {
   "cell_type": "code",
   "execution_count": 68,
   "id": "db238534",
   "metadata": {},
   "outputs": [
    {
     "data": {
      "text/html": [
       "<strong>var1:</strong> 10344.0223874772"
      ],
      "text/latex": [
       "\\textbf{var1:} 10344.0223874772"
      ],
      "text/markdown": [
       "**var1:** 10344.0223874772"
      ],
      "text/plain": [
       "    var1 \n",
       "10344.02 "
      ]
     },
     "metadata": {},
     "output_type": "display_data"
    }
   ],
   "source": [
    "effectiveSize(as.mcmc(post2$mu))"
   ]
  },
  {
   "cell_type": "markdown",
   "id": "7c70138f",
   "metadata": {},
   "source": [
    "for $1000$ iteration about 823 iteration contains information . which is very good."
   ]
  },
  {
   "cell_type": "code",
   "execution_count": 69,
   "id": "0e4e2d0a",
   "metadata": {},
   "outputs": [
    {
     "data": {
      "text/html": [
       "<strong>var1:</strong> 10000"
      ],
      "text/latex": [
       "\\textbf{var1:} 10000"
      ],
      "text/markdown": [
       "**var1:** 10000"
      ],
      "text/plain": [
       " var1 \n",
       "10000 "
      ]
     },
     "metadata": {},
     "output_type": "display_data"
    }
   ],
   "source": [
    "effectiveSize(as.mcmc(post2$sig2))"
   ]
  },
  {
   "cell_type": "code",
   "execution_count": 70,
   "id": "24fc8ebc",
   "metadata": {},
   "outputs": [
    {
     "data": {
      "image/png": "[encoded data removed]",
      "text/plain": [
       "Plot with title \"\""
      ]
     },
     "metadata": {
      "image/png": {
       "height": 420,
       "width": 420
      }
     },
     "output_type": "display_data"
    }
   ],
   "source": [
    "autocorr.plot(as.mcmc(post[,2]),main='sigma',lwd=3,col='blue',lag.max = 5)"
   ]
  },
  {
   "cell_type": "code",
   "execution_count": 71,
   "id": "da150eb5",
   "metadata": {},
   "outputs": [
    {
     "data": {
      "text/plain": [
       "\n",
       "Quantile (q) = 0.025\n",
       "Accuracy (r) = +/- 0.005\n",
       "Probability (s) = 0.95 \n",
       "                                       \n",
       " Burn-in  Total Lower bound  Dependence\n",
       " (M)      (N)   (Nmin)       factor (I)\n",
       " 2        3710  3746         0.99      \n"
      ]
     },
     "metadata": {},
     "output_type": "display_data"
    }
   ],
   "source": [
    "raftery.diag(as.mcmc(post[,1]))"
   ]
  },
  {
   "cell_type": "code",
   "execution_count": 101,
   "id": "ba43abd0",
   "metadata": {},
   "outputs": [
    {
     "data": {
      "text/html": [
       "3.09407569299005"
      ],
      "text/latex": [
       "3.09407569299005"
      ],
      "text/markdown": [
       "3.09407569299005"
      ],
      "text/plain": [
       "[1] 3.094076"
      ]
     },
     "metadata": {},
     "output_type": "display_data"
    }
   ],
   "source": [
    "1+2*sum(autocorr.diag(as.mcmc(post[,1])))"
   ]
  },
  {
   "cell_type": "code",
   "execution_count": 102,
   "id": "a1f31e88",
   "metadata": {},
   "outputs": [
    {
     "data": {
      "text/html": [
       "2.9985397728113"
      ],
      "text/latex": [
       "2.9985397728113"
      ],
      "text/markdown": [
       "2.9985397728113"
      ],
      "text/plain": [
       "[1] 2.99854"
      ]
     },
     "metadata": {},
     "output_type": "display_data"
    }
   ],
   "source": [
    "1+2*sum(autocorr.diag(as.mcmc(post[,2])))"
   ]
  },
  {
   "cell_type": "code",
   "execution_count": 103,
   "id": "26c8d41b",
   "metadata": {},
   "outputs": [
    {
     "data": {
      "image/png": "[encoded data removed]",
      "text/plain": [
       "Plot with title \"Histogram of y\""
      ]
     },
     "metadata": {
      "image/png": {
       "height": 420,
       "width": 420
      }
     },
     "output_type": "display_data"
    }
   ],
   "source": [
    "y= log(rain)\n",
    "\n",
    "ybar = mean(y)\n",
    "n = length(y)\n",
    "\n",
    "## prior\n",
    "prior = list()\n",
    "prior$mu_0 = 0.0\n",
    "prior$sig2_0 = 1.0\n",
    "prior$n_0 = 2.0 # prior effective sample size for sig2\n",
    "prior$s2_0 = 1.0 # prior point estimate for sig2\n",
    "prior$nu_0 = prior$n_0 / 2.0 # prior parameter for inverse-gamma\n",
    "prior$beta_0 = prior$n_0 * prior$s2_0 / 2.0 # prior parameter for inverse-gamma\n",
    "\n",
    "hist(y, freq=FALSE, xlim=c(-1.0, 6.0),breaks=50) # histogram of the data\n",
    "curve(dnorm(x=x, mean=prior$mu_0, sd=sqrt(prior$sig2_0)), lty=2, add=TRUE) # prior for mu\n",
    "points(y, rep(0,n), pch=1) # individual data points\n",
    "points(ybar, 0, pch=19) # sample mean\n",
    "lines(density(post2$mu,adjust=2.0),col = 'orange',lwd = 3)\n"
   ]
  },
  {
   "cell_type": "code",
   "execution_count": 108,
   "id": "b43d1dc1",
   "metadata": {},
   "outputs": [
    {
     "data": {
      "image/png": "[encoded data removed]",
      "text/plain": [
       "Plot with title \"Histogram of y\""
      ]
     },
     "metadata": {
      "image/png": {
       "height": 420,
       "width": 420
      }
     },
     "output_type": "display_data"
    }
   ],
   "source": [
    "hist(y,probability = TRUE)\n",
    "points(mean(y),0,pch = 19)\n",
    "lines(density(post2$mu))\n",
    "legend()"
   ]
  },
  {
   "cell_type": "code",
   "execution_count": null,
   "id": "3da437fa",
   "metadata": {},
   "outputs": [],
   "source": []
  }
 ],
 "metadata": {
  "kernelspec": {
   "display_name": "R",
   "language": "R",
   "name": "ir"
  },
  "language_info": {
   "codemirror_mode": "r",
   "file_extension": ".r",
   "mimetype": "text/x-r-source",
   "name": "R",
   "pygments_lexer": "r",
   "version": "4.0.3"
  },
  "latex_envs": {
   "LaTeX_envs_menu_present": true,
   "autoclose": false,
   "autocomplete": true,
   "bibliofile": "biblio.bib",
   "cite_by": "apalike",
   "current_citInitial": 1,
   "eqLabelWithNumbers": true,
   "eqNumInitial": 1,
   "hotkeys": {
    "equation": "Ctrl-E",
    "itemize": "Ctrl-I"
   },
   "labels_anchors": false,
   "latex_user_defs": false,
   "report_style_numbering": false,
   "user_envs_cfg": false
  },
  "toc": {
   "base_numbering": 1,
   "nav_menu": {},
   "number_sections": true,
   "sideBar": true,
   "skip_h1_title": false,
   "title_cell": "Table of Contents",
   "title_sidebar": "Contents",
   "toc_cell": false,
   "toc_position": {},
   "toc_section_display": true,
   "toc_window_display": false
  },
  "varInspector": {
   "cols": {
    "lenName": 16,
    "lenType": 16,
    "lenVar": 40
   },
   "kernels_config": {
    "python": {
     "delete_cmd_postfix": "",
     "delete_cmd_prefix": "del ",
     "library": "var_list.py",
     "varRefreshCmd": "print(var_dic_list())"
    },
    "r": {
     "delete_cmd_postfix": ") ",
     "delete_cmd_prefix": "rm(",
     "library": "var_list.r",
     "varRefreshCmd": "cat(var_dic_list()) "
    }
   },
   "types_to_exclude": [
    "module",
    "function",
    "builtin_function_or_method",
    "instance",
    "_Feature"
   ],
   "window_display": false
  }
 },
 "nbformat": 4,
 "nbformat_minor": 5
}
